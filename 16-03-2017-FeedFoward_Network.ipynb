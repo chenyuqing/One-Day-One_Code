{
 "cells": [
  {
   "cell_type": "code",
   "execution_count": 1,
   "metadata": {
    "collapsed": false
   },
   "outputs": [
    {
     "name": "stdout",
     "output_type": "stream",
     "text": [
      "Extracting MNIST_data/train-images-idx3-ubyte.gz\n",
      "Extracting MNIST_data/train-labels-idx1-ubyte.gz\n",
      "Extracting MNIST_data/t10k-images-idx3-ubyte.gz\n",
      "Extracting MNIST_data/t10k-labels-idx1-ubyte.gz\n"
     ]
    }
   ],
   "source": [
    "import tensorflow as tf\n",
    "import numpy as np\n",
    "from tensorflow.examples.tutorials.mnist import input_data\n",
    "\n",
    "mnist = input_data.read_data_sets(\"MNIST_data/\", one_hot=True)\n",
    "trX, trY, teX, teY = mnist.train.images, mnist.train.labels, mnist.test.images, mnist.test.labels"
   ]
  },
  {
   "cell_type": "code",
   "execution_count": 2,
   "metadata": {
    "collapsed": true
   },
   "outputs": [],
   "source": [
    "# tf Graph input\n",
    "X = tf.placeholder(tf.float32, [None, 784])\n",
    "Y = tf.placeholder(tf.float32, [None, 10])"
   ]
  },
  {
   "cell_type": "code",
   "execution_count": 3,
   "metadata": {
    "collapsed": true
   },
   "outputs": [],
   "source": [
    "# define functions\n",
    "def init_weights(shape):\n",
    "    return tf.Variable(tf.random_normal(shape, stddev=0.01))\n",
    "\n",
    "def model(X, w_h, w_o):\n",
    "    h = tf.nn.sigmoid(tf.matmul(X, w_h))\n",
    "    return tf.matmul(h, w_o)"
   ]
  },
  {
   "cell_type": "code",
   "execution_count": 4,
   "metadata": {
    "collapsed": true
   },
   "outputs": [],
   "source": [
    "w_h = init_weights([784, 625])\n",
    "w_o = init_weights([625, 10])\n",
    "\n",
    "py_x = model(X, w_h, w_o)\n",
    "\n",
    "cost = tf.reduce_mean(tf.nn.softmax_cross_entropy_with_logits(py_x, Y))\n",
    "train_op = tf.train.GradientDescentOptimizer(0.05).minimize(cost)\n",
    "predict_op = tf.argmax(py_x, 1)"
   ]
  },
  {
   "cell_type": "code",
   "execution_count": 5,
   "metadata": {
    "collapsed": false
   },
   "outputs": [
    {
     "name": "stdout",
     "output_type": "stream",
     "text": [
      "0 0.6902\n",
      "1 0.8213\n",
      "2 0.8603\n",
      "3 0.8795\n",
      "4 0.8879\n",
      "5 0.8934\n",
      "6 0.8971\n",
      "7 0.9003\n",
      "8 0.9038\n",
      "9 0.9052\n",
      "10 0.9078\n",
      "11 0.9097\n",
      "12 0.9116\n",
      "13 0.9129\n",
      "14 0.9145\n",
      "15 0.9151\n",
      "16 0.9156\n",
      "17 0.9162\n",
      "18 0.9174\n",
      "19 0.9185\n",
      "20 0.9188\n",
      "21 0.9193\n",
      "22 0.9198\n",
      "23 0.9198\n",
      "24 0.9201\n",
      "25 0.9208\n",
      "26 0.9217\n",
      "27 0.922\n",
      "28 0.9225\n",
      "29 0.9225\n",
      "30 0.9229\n",
      "31 0.9233\n",
      "32 0.9237\n",
      "33 0.9239\n",
      "34 0.9248\n",
      "35 0.9252\n",
      "36 0.9257\n",
      "37 0.9264\n",
      "38 0.9269\n",
      "39 0.9273\n",
      "40 0.9281\n",
      "41 0.9285\n",
      "42 0.9289\n",
      "43 0.9291\n",
      "44 0.9299\n",
      "45 0.9303\n",
      "46 0.9311\n",
      "47 0.9318\n",
      "48 0.9321\n",
      "49 0.9321\n",
      "50 0.9332\n",
      "51 0.9339\n",
      "52 0.9345\n",
      "53 0.9352\n",
      "54 0.9358\n",
      "55 0.9365\n",
      "56 0.937\n",
      "57 0.9382\n",
      "58 0.9386\n",
      "59 0.9389\n",
      "60 0.939\n",
      "61 0.9392\n",
      "62 0.9397\n",
      "63 0.9403\n",
      "64 0.941\n",
      "65 0.9419\n",
      "66 0.942\n",
      "67 0.9423\n",
      "68 0.9433\n",
      "69 0.9437\n",
      "70 0.9442\n",
      "71 0.9447\n",
      "72 0.9449\n",
      "73 0.946\n",
      "74 0.9461\n",
      "75 0.9463\n",
      "76 0.947\n",
      "77 0.9478\n",
      "78 0.9484\n",
      "79 0.9492\n",
      "80 0.9496\n",
      "81 0.9497\n",
      "82 0.9502\n",
      "83 0.9505\n",
      "84 0.951\n",
      "85 0.9512\n",
      "86 0.9515\n",
      "87 0.9521\n",
      "88 0.9527\n",
      "89 0.9533\n",
      "90 0.9536\n",
      "91 0.9538\n",
      "92 0.9543\n",
      "93 0.9545\n",
      "94 0.9544\n",
      "95 0.9544\n",
      "96 0.9547\n",
      "97 0.9552\n",
      "98 0.9552\n",
      "99 0.9551\n"
     ]
    }
   ],
   "source": [
    "# Lauch the graph in a session\n",
    "with tf.Session() as sess:\n",
    "    tf.global_variables_initializer().run()\n",
    "    \n",
    "    for i in range(100):\n",
    "        for start, end in zip(range(0, len(trX), 128), range(128, len(trX)+1, 128)):\n",
    "            sess.run(train_op, feed_dict={X: trX[start:end], Y: trY[start: end]})\n",
    "        print(i, np.mean(np.argmax(teY, axis=1) == sess.run(predict_op, feed_dict={X: teX})))"
   ]
  }
 ],
 "metadata": {
  "kernelspec": {
   "display_name": "Python [default]",
   "language": "python",
   "name": "python3"
  },
  "language_info": {
   "codemirror_mode": {
    "name": "ipython",
    "version": 3
   },
   "file_extension": ".py",
   "mimetype": "text/x-python",
   "name": "python",
   "nbconvert_exporter": "python",
   "pygments_lexer": "ipython3",
   "version": "3.5.2"
  }
 },
 "nbformat": 4,
 "nbformat_minor": 1
}
