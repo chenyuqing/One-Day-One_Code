{
 "cells": [
  {
   "cell_type": "code",
   "execution_count": 1,
   "metadata": {
    "collapsed": true
   },
   "outputs": [],
   "source": [
    "import tensorflow as tf\n",
    "from tensorflow.contrib import rnn\n",
    "import numpy as np"
   ]
  },
  {
   "cell_type": "code",
   "execution_count": 2,
   "metadata": {
    "collapsed": false
   },
   "outputs": [
    {
     "name": "stdout",
     "output_type": "stream",
     "text": [
      "Extracting MNIST_data/train-images-idx3-ubyte.gz\n",
      "Extracting MNIST_data/train-labels-idx1-ubyte.gz\n",
      "Extracting MNIST_data/t10k-images-idx3-ubyte.gz\n",
      "Extracting MNIST_data/t10k-labels-idx1-ubyte.gz\n"
     ]
    }
   ],
   "source": [
    "# Load the data\n",
    "from tensorflow.examples.tutorials.mnist import input_data\n",
    "mnist = input_data.read_data_sets(\"MNIST_data/\", one_hot=True)"
   ]
  },
  {
   "cell_type": "code",
   "execution_count": 3,
   "metadata": {
    "collapsed": true
   },
   "outputs": [],
   "source": [
    "\"\"\"\n",
    "    To classify images using a reccurent neural network, we consider every image row as a sequence of pixels. \n",
    "    Because MNIST image shape is 28 * 28 px, we will then handle 28 sequences of 28 steps for every sample.\n",
    "\"\"\"\n",
    "# Parameters \n",
    "learning_rate = 0.001\n",
    "training_iters = 100000\n",
    "batch_size = 128\n",
    "display_step = 10\n",
    "\n",
    "# Network Parameters\n",
    "n_inputs = 28 # MNIST data input (img shape: 28 * 28)\n",
    "n_steps = 28  # time step\n",
    "n_hidden = 128  # hidden layer num of features\n",
    "n_classes = 10  # MNIST total classes (0-9 digits)"
   ]
  },
  {
   "cell_type": "code",
   "execution_count": 8,
   "metadata": {
    "collapsed": false
   },
   "outputs": [],
   "source": [
    "# tf Graph input\n",
    "x = tf.placeholder(\"float\", [None, n_steps, n_inputs])\n",
    "y = tf.placeholder(\"float\", [None, n_classes])\n",
    "\n",
    "# Define weigthts\n",
    "weights = {\n",
    "    'out': tf.Variable(tf.random_normal([n_hidden, n_classes]))\n",
    "}\n",
    "biases = {\n",
    "    'out': tf.Variable(tf.random_normal([n_classes]))\n",
    "}"
   ]
  },
  {
   "cell_type": "code",
   "execution_count": 29,
   "metadata": {
    "collapsed": true
   },
   "outputs": [],
   "source": [
    "def RNN(x, weights, biases):\n",
    "    \"\"\"\n",
    "        Prepare data shape to match 'rnn' function requirements\n",
    "        Current data input shape: (batch_size, n_steps, n_inputs)\n",
    "        Required shape: 'n_steps' tensor list of shape (batch_size, n_inputs)\n",
    "    \"\"\"\n",
    "    # Permuting batch_size and n_steps\n",
    "    x = tf.transpose(x, [1, 0, 2])\n",
    "    # Reshaping to (n_steps * batch_size, n_inputs)\n",
    "    x = tf.reshape(x, [-1, n_inputs])\n",
    "    # Split to get a list of 'n_steps' tensors of shape (batch_size, n_inputs)\n",
    "    x = tf.split(0, n_steps, x)\n",
    "    \n",
    "    # Define a lstm cell with tensorflow\n",
    "    lstm_cell = tf.nn.rnn_cell.BasicLSTMCell(n_hidden, forget_bias=1.0)\n",
    "    \n",
    "    # Get lstm cell output\n",
    "    outputs, states = tf.nn.rnn(lstm_cell, x, dtype=tf.float32)\n",
    "    \n",
    "    # Linear activation, using rnn inner loop last output\n",
    "    return tf.matmul(outputs[-1], weights['out']) + biases['out']"
   ]
  },
  {
   "cell_type": "code",
   "execution_count": 30,
   "metadata": {
    "collapsed": false
   },
   "outputs": [],
   "source": [
    "pred = RNN(x, weights, biases)\n",
    "\n",
    "# Define loss and optimizer\n",
    "cost = tf.reduce_mean(tf.nn.softmax_cross_entropy_with_logits(logits=pred, labels=y))\n",
    "optimizer = tf.train.AdamOptimizer(learning_rate=learning_rate).minimize(cost)\n",
    "\n",
    "# Evaluate model\n",
    "correct_pred = tf.equal(tf.argmax(pred, 1), tf.argmax(y, 1))\n",
    "accuracy = tf.reduce_mean(tf.cast(correct_pred, tf.float32))\n",
    "\n",
    "# Initializing the variables\n",
    "init = tf.global_variables_initializer()"
   ]
  },
  {
   "cell_type": "code",
   "execution_count": 33,
   "metadata": {
    "collapsed": false
   },
   "outputs": [
    {
     "name": "stdout",
     "output_type": "stream",
     "text": [
      "Iter 1280, Minibatch Loss= 1.693063, Training Accuracy= 0.41406\n",
      "Iter 2560, Minibatch Loss= 1.422429, Training Accuracy= 0.56250\n",
      "Iter 3840, Minibatch Loss= 1.189692, Training Accuracy= 0.60938\n",
      "Iter 5120, Minibatch Loss= 0.897376, Training Accuracy= 0.69531\n",
      "Iter 6400, Minibatch Loss= 0.749273, Training Accuracy= 0.71094\n",
      "Iter 7680, Minibatch Loss= 0.685864, Training Accuracy= 0.78125\n",
      "Iter 8960, Minibatch Loss= 0.574905, Training Accuracy= 0.84375\n",
      "Iter 10240, Minibatch Loss= 0.387475, Training Accuracy= 0.84375\n",
      "Iter 11520, Minibatch Loss= 0.388653, Training Accuracy= 0.85938\n",
      "Iter 12800, Minibatch Loss= 0.465894, Training Accuracy= 0.85938\n",
      "Iter 14080, Minibatch Loss= 0.424895, Training Accuracy= 0.88281\n",
      "Iter 15360, Minibatch Loss= 0.345580, Training Accuracy= 0.87500\n",
      "Iter 16640, Minibatch Loss= 0.343607, Training Accuracy= 0.86719\n",
      "Iter 17920, Minibatch Loss= 0.404035, Training Accuracy= 0.87500\n",
      "Iter 19200, Minibatch Loss= 0.233593, Training Accuracy= 0.93750\n",
      "Iter 20480, Minibatch Loss= 0.259150, Training Accuracy= 0.91406\n",
      "Iter 21760, Minibatch Loss= 0.293401, Training Accuracy= 0.92969\n",
      "Iter 23040, Minibatch Loss= 0.172847, Training Accuracy= 0.95312\n",
      "Iter 24320, Minibatch Loss= 0.267040, Training Accuracy= 0.93750\n",
      "Iter 25600, Minibatch Loss= 0.224751, Training Accuracy= 0.92188\n",
      "Iter 26880, Minibatch Loss= 0.185336, Training Accuracy= 0.93750\n",
      "Iter 28160, Minibatch Loss= 0.298643, Training Accuracy= 0.93750\n",
      "Iter 29440, Minibatch Loss= 0.123547, Training Accuracy= 0.96875\n",
      "Iter 30720, Minibatch Loss= 0.209984, Training Accuracy= 0.92188\n",
      "Iter 32000, Minibatch Loss= 0.275713, Training Accuracy= 0.90625\n",
      "Iter 33280, Minibatch Loss= 0.154686, Training Accuracy= 0.94531\n",
      "Iter 34560, Minibatch Loss= 0.163260, Training Accuracy= 0.95312\n",
      "Iter 35840, Minibatch Loss= 0.136042, Training Accuracy= 0.95312\n",
      "Iter 37120, Minibatch Loss= 0.101754, Training Accuracy= 0.96875\n",
      "Iter 38400, Minibatch Loss= 0.401019, Training Accuracy= 0.90625\n",
      "Iter 39680, Minibatch Loss= 0.219263, Training Accuracy= 0.93750\n",
      "Iter 40960, Minibatch Loss= 0.163736, Training Accuracy= 0.92188\n",
      "Iter 42240, Minibatch Loss= 0.174253, Training Accuracy= 0.93750\n",
      "Iter 43520, Minibatch Loss= 0.049378, Training Accuracy= 0.99219\n",
      "Iter 44800, Minibatch Loss= 0.143844, Training Accuracy= 0.95312\n",
      "Iter 46080, Minibatch Loss= 0.200414, Training Accuracy= 0.94531\n",
      "Iter 47360, Minibatch Loss= 0.158326, Training Accuracy= 0.96875\n",
      "Iter 48640, Minibatch Loss= 0.193490, Training Accuracy= 0.94531\n",
      "Iter 49920, Minibatch Loss= 0.182222, Training Accuracy= 0.94531\n",
      "Iter 51200, Minibatch Loss= 0.107508, Training Accuracy= 0.94531\n",
      "Iter 52480, Minibatch Loss= 0.151556, Training Accuracy= 0.95312\n",
      "Iter 53760, Minibatch Loss= 0.085153, Training Accuracy= 0.98438\n",
      "Iter 55040, Minibatch Loss= 0.200415, Training Accuracy= 0.92969\n",
      "Iter 56320, Minibatch Loss= 0.172004, Training Accuracy= 0.93750\n",
      "Iter 57600, Minibatch Loss= 0.100070, Training Accuracy= 0.96094\n",
      "Iter 58880, Minibatch Loss= 0.139545, Training Accuracy= 0.97656\n",
      "Iter 60160, Minibatch Loss= 0.196773, Training Accuracy= 0.93750\n",
      "Iter 61440, Minibatch Loss= 0.161790, Training Accuracy= 0.95312\n",
      "Iter 62720, Minibatch Loss= 0.112090, Training Accuracy= 0.97656\n",
      "Iter 64000, Minibatch Loss= 0.158908, Training Accuracy= 0.94531\n",
      "Iter 65280, Minibatch Loss= 0.121034, Training Accuracy= 0.97656\n",
      "Iter 66560, Minibatch Loss= 0.082828, Training Accuracy= 0.96875\n",
      "Iter 67840, Minibatch Loss= 0.134614, Training Accuracy= 0.95312\n",
      "Iter 69120, Minibatch Loss= 0.121763, Training Accuracy= 0.95312\n",
      "Iter 70400, Minibatch Loss= 0.139986, Training Accuracy= 0.96094\n",
      "Iter 71680, Minibatch Loss= 0.078575, Training Accuracy= 0.98438\n",
      "Iter 72960, Minibatch Loss= 0.135219, Training Accuracy= 0.94531\n",
      "Iter 74240, Minibatch Loss= 0.084374, Training Accuracy= 0.96875\n",
      "Iter 75520, Minibatch Loss= 0.069837, Training Accuracy= 0.96875\n",
      "Iter 76800, Minibatch Loss= 0.188417, Training Accuracy= 0.96094\n",
      "Iter 78080, Minibatch Loss= 0.159342, Training Accuracy= 0.96094\n",
      "Iter 79360, Minibatch Loss= 0.085908, Training Accuracy= 0.96875\n",
      "Iter 80640, Minibatch Loss= 0.186774, Training Accuracy= 0.93750\n",
      "Iter 81920, Minibatch Loss= 0.182311, Training Accuracy= 0.92969\n",
      "Iter 83200, Minibatch Loss= 0.164026, Training Accuracy= 0.92969\n",
      "Iter 84480, Minibatch Loss= 0.056994, Training Accuracy= 0.99219\n",
      "Iter 85760, Minibatch Loss= 0.142777, Training Accuracy= 0.96094\n",
      "Iter 87040, Minibatch Loss= 0.091238, Training Accuracy= 0.98438\n",
      "Iter 88320, Minibatch Loss= 0.089122, Training Accuracy= 0.95312\n",
      "Iter 89600, Minibatch Loss= 0.056919, Training Accuracy= 0.98438\n",
      "Iter 90880, Minibatch Loss= 0.105230, Training Accuracy= 0.97656\n",
      "Iter 92160, Minibatch Loss= 0.052041, Training Accuracy= 0.99219\n",
      "Iter 93440, Minibatch Loss= 0.039659, Training Accuracy= 1.00000\n",
      "Iter 94720, Minibatch Loss= 0.158628, Training Accuracy= 0.96094\n",
      "Iter 96000, Minibatch Loss= 0.068775, Training Accuracy= 0.99219\n",
      "Iter 97280, Minibatch Loss= 0.054326, Training Accuracy= 0.97656\n",
      "Iter 98560, Minibatch Loss= 0.085373, Training Accuracy= 0.96875\n",
      "Iter 99840, Minibatch Loss= 0.124084, Training Accuracy= 0.96875\n",
      "Optimization Finished!\n",
      "Testing Accuracy: 1.0\n"
     ]
    }
   ],
   "source": [
    "# Launch the graph\n",
    "with tf.Session() as sess:\n",
    "    sess.run(init)\n",
    "    step = 1\n",
    "    # Keep training until reach max iterations\n",
    "    while step * batch_size < training_iters:\n",
    "        batch_x, batch_y = mnist.train.next_batch(batch_size)\n",
    "        # Reshape data to get 28 seq of 28 elements\n",
    "        batch_x = batch_x.reshape((batch_size, n_steps, n_inputs))\n",
    "        # Run optimization op (backprop)\n",
    "        sess.run(optimizer, feed_dict={x: batch_x, y: batch_y})\n",
    "        if step % display_step == 0:\n",
    "            # Calculate batch accuracy\n",
    "            acc = sess.run(accuracy, feed_dict={x: batch_x, y: batch_y})\n",
    "            # Calculate batch loss\n",
    "            loss = sess.run(cost, feed_dict={x: batch_x, y: batch_y})\n",
    "            print (\"Iter \" + str(step*batch_size) + \", Minibatch Loss= \" + \\\n",
    "                  \"{:.6f}\".format(loss) + \", Training Accuracy= \" + \\\n",
    "                  \"{:.5f}\".format(acc))\n",
    "        step += 1\n",
    "    print(\"Optimization Finished!\")\n",
    "\n",
    "    # Calculate accuracy for 128 mnist test images\n",
    "    test_len = 128\n",
    "    test_data = mnist.test.images[:test_len].reshape((-1, n_steps, n_inputs))\n",
    "    test_label = mnist.test.labels[:test_len]\n",
    "    print( \"Testing Accuracy:\", \\\n",
    "        sess.run(accuracy, feed_dict={x: test_data, y: test_label}))"
   ]
  }
 ],
 "metadata": {
  "kernelspec": {
   "display_name": "Python [default]",
   "language": "python",
   "name": "python3"
  },
  "language_info": {
   "codemirror_mode": {
    "name": "ipython",
    "version": 3
   },
   "file_extension": ".py",
   "mimetype": "text/x-python",
   "name": "python",
   "nbconvert_exporter": "python",
   "pygments_lexer": "ipython3",
   "version": "3.5.2"
  }
 },
 "nbformat": 4,
 "nbformat_minor": 1
}
